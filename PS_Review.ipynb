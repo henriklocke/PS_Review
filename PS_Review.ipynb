{
 "cells": [
  {
   "cell_type": "code",
   "execution_count": 2,
   "id": "dca09eb8",
   "metadata": {},
   "outputs": [],
   "source": [
    "import pandas as pd\n",
    "import plotly\n",
    "import plotly.graph_objects as go"
   ]
  },
  {
   "cell_type": "code",
   "execution_count": 153,
   "id": "d8b4aef4",
   "metadata": {},
   "outputs": [
    {
     "data": {
      "text/html": [
       "<div>\n",
       "<style scoped>\n",
       "    .dataframe tbody tr th:only-of-type {\n",
       "        vertical-align: middle;\n",
       "    }\n",
       "\n",
       "    .dataframe tbody tr th {\n",
       "        vertical-align: top;\n",
       "    }\n",
       "\n",
       "    .dataframe thead th {\n",
       "        text-align: right;\n",
       "    }\n",
       "</style>\n",
       "<table border=\"1\" class=\"dataframe\">\n",
       "  <thead>\n",
       "    <tr style=\"text-align: right;\">\n",
       "      <th></th>\n",
       "      <th>Curve</th>\n",
       "      <th>SQN</th>\n",
       "      <th>HGL</th>\n",
       "      <th>Discharge</th>\n",
       "    </tr>\n",
       "  </thead>\n",
       "  <tbody>\n",
       "    <tr>\n",
       "      <th>0</th>\n",
       "      <td>9736_MH1 BasinCurve</td>\n",
       "      <td>1</td>\n",
       "      <td>0.000</td>\n",
       "      <td>0.0000</td>\n",
       "    </tr>\n",
       "    <tr>\n",
       "      <th>1</th>\n",
       "      <td>9736_MH1 BasinCurve</td>\n",
       "      <td>2</td>\n",
       "      <td>1.470</td>\n",
       "      <td>0.6610</td>\n",
       "    </tr>\n",
       "    <tr>\n",
       "      <th>2</th>\n",
       "      <td>9736_MH1 BasinCurve</td>\n",
       "      <td>3</td>\n",
       "      <td>2.334</td>\n",
       "      <td>1.4050</td>\n",
       "    </tr>\n",
       "    <tr>\n",
       "      <th>3</th>\n",
       "      <td>9736_MH1 BasinCurve</td>\n",
       "      <td>4</td>\n",
       "      <td>2.335</td>\n",
       "      <td>1.4065</td>\n",
       "    </tr>\n",
       "    <tr>\n",
       "      <th>4</th>\n",
       "      <td>9736_MH1 BasinCurve</td>\n",
       "      <td>5</td>\n",
       "      <td>4.590</td>\n",
       "      <td>5.0796</td>\n",
       "    </tr>\n",
       "    <tr>\n",
       "      <th>...</th>\n",
       "      <td>...</td>\n",
       "      <td>...</td>\n",
       "      <td>...</td>\n",
       "      <td>...</td>\n",
       "    </tr>\n",
       "    <tr>\n",
       "      <th>333</th>\n",
       "      <td>Welchlloyds-PumpCurve</td>\n",
       "      <td>2</td>\n",
       "      <td>4.500</td>\n",
       "      <td>0.0515</td>\n",
       "    </tr>\n",
       "    <tr>\n",
       "      <th>334</th>\n",
       "      <td>Welchlloyds-PumpCurve</td>\n",
       "      <td>3</td>\n",
       "      <td>6.000</td>\n",
       "      <td>0.0460</td>\n",
       "    </tr>\n",
       "    <tr>\n",
       "      <th>335</th>\n",
       "      <td>Welchlloyds-PumpCurve</td>\n",
       "      <td>4</td>\n",
       "      <td>11.000</td>\n",
       "      <td>0.0240</td>\n",
       "    </tr>\n",
       "    <tr>\n",
       "      <th>336</th>\n",
       "      <td>Welchlloyds-PumpCurve</td>\n",
       "      <td>5</td>\n",
       "      <td>16.000</td>\n",
       "      <td>0.0030</td>\n",
       "    </tr>\n",
       "    <tr>\n",
       "      <th>337</th>\n",
       "      <td>Welchlloyds-PumpCurve</td>\n",
       "      <td>6</td>\n",
       "      <td>17.000</td>\n",
       "      <td>0.0000</td>\n",
       "    </tr>\n",
       "  </tbody>\n",
       "</table>\n",
       "<p>338 rows × 4 columns</p>\n",
       "</div>"
      ],
      "text/plain": [
       "                     Curve  SQN     HGL  Discharge\n",
       "0      9736_MH1 BasinCurve    1   0.000     0.0000\n",
       "1      9736_MH1 BasinCurve    2   1.470     0.6610\n",
       "2      9736_MH1 BasinCurve    3   2.334     1.4050\n",
       "3      9736_MH1 BasinCurve    4   2.335     1.4065\n",
       "4      9736_MH1 BasinCurve    5   4.590     5.0796\n",
       "..                     ...  ...     ...        ...\n",
       "333  Welchlloyds-PumpCurve    2   4.500     0.0515\n",
       "334  Welchlloyds-PumpCurve    3   6.000     0.0460\n",
       "335  Welchlloyds-PumpCurve    4  11.000     0.0240\n",
       "336  Welchlloyds-PumpCurve    5  16.000     0.0030\n",
       "337  Welchlloyds-PumpCurve    6  17.000     0.0000\n",
       "\n",
       "[338 rows x 4 columns]"
      ]
     },
     "execution_count": 153,
     "metadata": {},
     "output_type": "execute_result"
    }
   ],
   "source": [
    "curves"
   ]
  },
  {
   "cell_type": "code",
   "execution_count": 152,
   "id": "0372bef0",
   "metadata": {},
   "outputs": [
    {
     "data": {
      "text/plain": [
       "{'Welchlloyds-PumpCurve'}"
      ]
     },
     "execution_count": 152,
     "metadata": {},
     "output_type": "execute_result"
    }
   ],
   "source": [
    "curves = pd.read_csv('PS_Curves.csv')\n",
    "curves\n",
    "df_ps\n",
    "\n",
    "curve_ids = set()\n",
    "for curve in list(curves.Curve.unique()):\n",
    "    if curve in list(df_ps.Pump_Curve_Max) or curve in list(df_ps.Pump_Curve_Min):\n",
    "        curve_ids.add(curve)\n",
    "        \n",
    "curve_ids\n",
    "    "
   ]
  },
  {
   "cell_type": "code",
   "execution_count": 149,
   "id": "ad42f009",
   "metadata": {},
   "outputs": [
    {
     "data": {
      "text/plain": [
       "array(['9736_MH1 BasinCurve', 'Banbury-BasinCurve ', 'Banbury-PumpCurve',\n",
       "       'Brichlynn-PumpCurve', 'Brichlynns-BasinCurve',\n",
       "       'DegrittingChamber', 'GE1-BasinCurve ',\n",
       "       'GE1-Pump1Curve-Extrapolated', 'GE1-PumpCurve1 ',\n",
       "       'GE2-BasinCurve ', 'GE2-CompCurve1+2', 'GE2-PumpCurve1 ',\n",
       "       'GE2-PumpCurve-Extrapolated', 'GE3-BasinCurve ',\n",
       "       'GE3-CompCurve1+2', 'GE3-PumpCurve1', 'GE3-PumpCurve-Extrapolated',\n",
       "       'GE4-BasinCurve ', 'GE4-CompCurve1+2', 'GE4-PumpCurve1',\n",
       "       'GE5-BasinCurve ', 'GE5-CompCurve1+2', 'GE5-PumpCurve1 ',\n",
       "       'GE5-PumpCurve1-10pct', 'GE5-PumpCurve11inch', 'Lynn-BasinCurve ',\n",
       "       'Lynn-CompCurve1+2', 'Lynn-CompCurve3+4',\n",
       "       'LynnNewSiphon200mnKnifeGateValve', 'Lynn-PumpCurve1 ',\n",
       "       'Lynn-PumpCurve2', 'Lynn-PumpCurve3', 'Lynn-PumpCurve4',\n",
       "       'Lynn-PumpCurve-Extrapolated', 'MH13B_McKay',\n",
       "       'OldSyphonAbandonedRegulation', 'Rosallans-PumpCurve',\n",
       "       'Rossallans-BasinCurve', 'Seashells-BasinCurve',\n",
       "       'Seashells-PumpCurve ', 'TACurve1', 'TACurve2', 'TACurve3',\n",
       "       'Welchlloyds-BasinCurve', 'Welchlloyds-PumpCurve'], dtype=object)"
      ]
     },
     "execution_count": 149,
     "metadata": {},
     "output_type": "execute_result"
    }
   ],
   "source": [
    "curves.Curve.unique()"
   ]
  },
  {
   "cell_type": "code",
   "execution_count": 159,
   "id": "c931f4ae",
   "metadata": {},
   "outputs": [],
   "source": [
    "df = pd.read_csv('PS_Info.csv')\n",
    "curves = pd.read_csv('PS_Curves.csv')\n",
    "\n",
    "pss = list(df.PS.unique())\n",
    "\n",
    "f = open('PS_Summary.html', \"w\")\n",
    "f.write('<link rel=\"stylesheet\" href=\"style.css\">\\n')\n",
    "f.write('<script src=\"script.js\"></script>\\n')\n",
    "f.write('<link rel=\"stylesheet\" href=\"style.css\">\\n')\n",
    "f.write('<!DOCTYPE html>\\n')\n",
    "f.write('<html>\\n')\n",
    "f.write('<head>\\n')\n",
    "f.write('<meta charset=\"utf-8\">\\n')\n",
    "f.write('</head>\\n')\n",
    "f.write('<body>\\n\\n')\n",
    "\n",
    "f.write('<div class=\"tab\">\\n')\n",
    "for i, tab in enumerate(pss):\n",
    "    if i == -1: #Make tab active ----This gives wrong zoom levels so it is temporarily disabled until fixed\n",
    "        f.write('  <button class=\"tablinks active\" onclick=\"openTab(event, ' + \"'\" + tab + \"'\"  + ')\">' + tab + '</button>\\n')\n",
    "    else:\n",
    "        f.write('  <button class=\"tablinks\" onclick=\"openTab(event, ' + \"'\" + tab + \"'\"  + ')\">' + tab + '</button>\\n')\n",
    "f.write('</div>\\n')\n",
    "\n",
    "for i, ps in enumerate(pss):\n",
    "    \n",
    "#     if ps == 'NW CSO Tank Cleanout Pumps':\n",
    "    if 1 == 1:\n",
    "\n",
    "        if i == -1: #Make tab active ----This gives wrong zoom levels so it is temporarily disabled until fixed\n",
    "            f.write('<div id=\"' + ps + '\" class=\"tabcontent\" style=\"display:block\">\\n')\n",
    "        else:\n",
    "            f.write('<div id=\"' + ps + '\" class=\"tabcontent\">\\n')    \n",
    "\n",
    "        df_ps = df[df.PS==ps]\n",
    "\n",
    "        fig = go.Figure()\n",
    "\n",
    "        x = 1\n",
    "\n",
    "        for sump in df_ps.Sump.unique():\n",
    "\n",
    "            df_ps_sump = df_ps[df_ps.Sump==sump]\n",
    "            invert_level = df_ps_sump.iloc[0,2]\n",
    "            ground_level = df_ps_sump.iloc[0,3]\n",
    "\n",
    "            fig.add_shape(type=\"rect\",x0=x, y0=invert_level, x1=x+1, y1=ground_level,line=dict(color=\"RoyalBlue\",width=1),)\n",
    "            x_mid = x + 0.5\n",
    "\n",
    "            fig.add_annotation(x=x_mid, y=ground_level + 0.5,\n",
    "                text=sump,\n",
    "                showarrow=False,\n",
    "                arrowhead=1)\n",
    "\n",
    "            x += 1.5\n",
    "\n",
    "            y_axis_height = int(df_ps.Ground_Level.max())+2 - (int(df_ps.Invert_Level.min())-2)\n",
    "            delta_pump_text_y = y_axis_height / 30\n",
    "            pump_text_y_previous = -9999\n",
    "\n",
    "            for index, row in df_ps_sump.iterrows():\n",
    "\n",
    "\n",
    "                fig.add_shape(type=\"line\",\n",
    "                    x0=x, y0=row['Start_Level'], x1=x, y1=row['Stop_Level'],\n",
    "                    line=dict(\n",
    "                        color=\"Red\",\n",
    "                        width=2,\n",
    "                    )\n",
    "                )\n",
    "\n",
    "                if row['Start_Level'] > ground_level:                                \n",
    "#                     pump_text_y = ground_level + 0.5\n",
    "                    \n",
    "                    if ground_level + 0.5 - pump_text_y_previous < delta_pump_text_y:  #Avoid overlapping text                  \n",
    "                        pump_text_y = pump_text_y_previous + delta_pump_text_y\n",
    "                    else: \n",
    "                        pump_text_y = ground_level + 0.5\n",
    "                    \n",
    "                else:\n",
    "                    if row['Start_Level'] - pump_text_y_previous < delta_pump_text_y:  #Avoid overlapping text                  \n",
    "                        pump_text_y = pump_text_y_previous + delta_pump_text_y\n",
    "                    else: \n",
    "                        pump_text_y = row['Start_Level'] + 0.5\n",
    "                pump_text_y_previous = pump_text_y\n",
    "\n",
    "                if ps == 'United PS':\n",
    "                    print(pump_text_y_previous)\n",
    "\n",
    "                fig.add_annotation(x=x, y=pump_text_y,\n",
    "                    text=row['Pump'],\n",
    "                    showarrow=False,\n",
    "                    arrowhead=1)\n",
    "\n",
    "\n",
    "                dot_line_ys = [row['Start_Level'],row['Stop_Level']]\n",
    "\n",
    "\n",
    "                for dot_line_y in dot_line_ys:\n",
    "                    fig.add_shape(type=\"line\",\n",
    "                        x0=x_mid, y0=dot_line_y, x1=x, y1=dot_line_y,\n",
    "                        line=dict(\n",
    "                            color=\"grey\",\n",
    "                            width=1,\n",
    "                            dash=\"dot\",\n",
    "                        )\n",
    "                    )  \n",
    "\n",
    "                x += 0.5\n",
    "\n",
    "            x = int(x) + 1\n",
    "\n",
    "        fig['layout']['yaxis']['range']=[int(df_ps.Invert_Level.min())-2,int(df_ps.Ground_Level.max())+2]\n",
    "        fig['layout']['xaxis']['range']=[0,x]\n",
    "        \n",
    "        fig.update_layout(\n",
    "        autosize=False,\n",
    "        width = 800,\n",
    "        height=500,\n",
    "        margin=dict(\n",
    "            l=50,\n",
    "            r=50,\n",
    "            b=40,\n",
    "            t=35,\n",
    "            pad=4\n",
    "            ),\n",
    "\n",
    "        )\n",
    "\n",
    "        f.write(fig.to_html(full_html=False, include_plotlyjs='cdn'))  \n",
    "        \n",
    "        \n",
    "        curve_ids = set()\n",
    "        for curve in list(curves.Curve.unique()):            \n",
    "            if curve in list(df_ps.Pump_Curve_Max) or curve in list(df_ps.Pump_Curve_Min):\n",
    "                curve_ids.add(curve)\n",
    "        \n",
    "        if len(curve_ids) > 0:\n",
    "            fig = go.Figure()\n",
    "            for curve_id in curve_ids:\n",
    "                df_curve = curves[curves.Curve==curve_id]\n",
    "                fig.add_trace(go.Scatter(x=df_curve.Discharge, \n",
    "                             y = list(df_curve.HGL), \n",
    "                             mode='lines',name=curve_id))\n",
    "                \n",
    "            fig.update_layout(\n",
    "            autosize=False,\n",
    "            width = 800,\n",
    "            height=200,\n",
    "            margin=dict(\n",
    "                l=50,\n",
    "                r=50,\n",
    "                b=40,\n",
    "                t=35,\n",
    "                pad=4\n",
    "                ),\n",
    "\n",
    "            )\n",
    "\n",
    "            f.write(fig.to_html(full_html=False, include_plotlyjs='cdn'))               \n",
    "        \n",
    "        df_pumps = df_ps[df_ps.columns[4:]].copy()        \n",
    "   \n",
    "#         f.write('<table class=\"first\">\\n')\n",
    "        f.write('\\n<table>\\n')\n",
    "        f.write('  <tr>\\n')\n",
    "        \n",
    "        for column in df_pumps.columns:\n",
    "            f.write('    <th>' + column + '</th>\\n')\n",
    "        \n",
    "        f.write('  </tr>\\n')\n",
    "\n",
    "        for index, row in df_pumps.iterrows():\n",
    "            f.write('  <tr>\\n')\n",
    "            for column in df_pumps.columns:\n",
    "                if isinstance(row[column],str):\n",
    "                    f.write('    <td>' + str(row[column]) + '</th>\\n')\n",
    "                else:\n",
    "                    if np.isnan(row[column]):\n",
    "                        f.write('    <td></th>\\n')\n",
    "                    else:\n",
    "                        f.write('    <td>' + str(row[column]) + '</th>\\n')\n",
    "            f.write('  </tr>\\n')                   \n",
    "        f.write('</table>\\n')\n",
    "                        \n",
    "  \n",
    "        f.write('</div>\\n')\n",
    "        \n",
    "f.write('</body>\\n')\n",
    "f.write('</html>\\n')\n",
    "f.close()\n",
    "\n",
    "\n"
   ]
  },
  {
   "cell_type": "code",
   "execution_count": 134,
   "id": "05e6e1e9",
   "metadata": {},
   "outputs": [
    {
     "data": {
      "application/vnd.plotly.v1+json": {
       "config": {
        "plotlyServerURL": "https://plot.ly"
       },
       "data": [],
       "layout": {
        "annotations": [
         {
          "arrowhead": 1,
          "showarrow": false,
          "text": "35445",
          "x": 1.5,
          "y": 2.93
         },
         {
          "arrowhead": 1,
          "showarrow": false,
          "text": "WhiteRock1a-1stLevel",
          "x": 2.5,
          "y": 0.81
         },
         {
          "arrowhead": 1,
          "showarrow": false,
          "text": "WhiteRock2a-2ndLevel",
          "x": 3,
          "y": 1.1600000000000001
         },
         {
          "arrowhead": 1,
          "showarrow": false,
          "text": "WhiteRock3a-3rdLevel",
          "x": 3.5,
          "y": 1.5100000000000002
         }
        ],
        "shapes": [
         {
          "line": {
           "color": "RoyalBlue",
           "width": 1
          },
          "type": "rect",
          "x0": 1,
          "x1": 2,
          "y0": -1.84,
          "y1": 2.43
         },
         {
          "line": {
           "color": "Red",
           "width": 2
          },
          "type": "line",
          "x0": 2.5,
          "x1": 2.5,
          "y0": 0.31,
          "y1": -1.09
         },
         {
          "line": {
           "color": "grey",
           "dash": "dot",
           "width": 1
          },
          "type": "line",
          "x0": 1.5,
          "x1": 2.5,
          "y0": 0.31,
          "y1": 0.31
         },
         {
          "line": {
           "color": "grey",
           "dash": "dot",
           "width": 1
          },
          "type": "line",
          "x0": 1.5,
          "x1": 2.5,
          "y0": -1.09,
          "y1": -1.09
         },
         {
          "line": {
           "color": "Red",
           "width": 2
          },
          "type": "line",
          "x0": 3,
          "x1": 3,
          "y0": 0.61,
          "y1": -0.94
         },
         {
          "line": {
           "color": "grey",
           "dash": "dot",
           "width": 1
          },
          "type": "line",
          "x0": 1.5,
          "x1": 3,
          "y0": 0.61,
          "y1": 0.61
         },
         {
          "line": {
           "color": "grey",
           "dash": "dot",
           "width": 1
          },
          "type": "line",
          "x0": 1.5,
          "x1": 3,
          "y0": -0.94,
          "y1": -0.94
         },
         {
          "line": {
           "color": "Red",
           "width": 2
          },
          "type": "line",
          "x0": 3.5,
          "x1": 3.5,
          "y0": 0.91,
          "y1": -0.79
         },
         {
          "line": {
           "color": "grey",
           "dash": "dot",
           "width": 1
          },
          "type": "line",
          "x0": 1.5,
          "x1": 3.5,
          "y0": 0.91,
          "y1": 0.91
         },
         {
          "line": {
           "color": "grey",
           "dash": "dot",
           "width": 1
          },
          "type": "line",
          "x0": 1.5,
          "x1": 3.5,
          "y0": -0.79,
          "y1": -0.79
         }
        ],
        "template": {
         "data": {
          "bar": [
           {
            "error_x": {
             "color": "#2a3f5f"
            },
            "error_y": {
             "color": "#2a3f5f"
            },
            "marker": {
             "line": {
              "color": "#E5ECF6",
              "width": 0.5
             },
             "pattern": {
              "fillmode": "overlay",
              "size": 10,
              "solidity": 0.2
             }
            },
            "type": "bar"
           }
          ],
          "barpolar": [
           {
            "marker": {
             "line": {
              "color": "#E5ECF6",
              "width": 0.5
             },
             "pattern": {
              "fillmode": "overlay",
              "size": 10,
              "solidity": 0.2
             }
            },
            "type": "barpolar"
           }
          ],
          "carpet": [
           {
            "aaxis": {
             "endlinecolor": "#2a3f5f",
             "gridcolor": "white",
             "linecolor": "white",
             "minorgridcolor": "white",
             "startlinecolor": "#2a3f5f"
            },
            "baxis": {
             "endlinecolor": "#2a3f5f",
             "gridcolor": "white",
             "linecolor": "white",
             "minorgridcolor": "white",
             "startlinecolor": "#2a3f5f"
            },
            "type": "carpet"
           }
          ],
          "choropleth": [
           {
            "colorbar": {
             "outlinewidth": 0,
             "ticks": ""
            },
            "type": "choropleth"
           }
          ],
          "contour": [
           {
            "colorbar": {
             "outlinewidth": 0,
             "ticks": ""
            },
            "colorscale": [
             [
              0,
              "#0d0887"
             ],
             [
              0.1111111111111111,
              "#46039f"
             ],
             [
              0.2222222222222222,
              "#7201a8"
             ],
             [
              0.3333333333333333,
              "#9c179e"
             ],
             [
              0.4444444444444444,
              "#bd3786"
             ],
             [
              0.5555555555555556,
              "#d8576b"
             ],
             [
              0.6666666666666666,
              "#ed7953"
             ],
             [
              0.7777777777777778,
              "#fb9f3a"
             ],
             [
              0.8888888888888888,
              "#fdca26"
             ],
             [
              1,
              "#f0f921"
             ]
            ],
            "type": "contour"
           }
          ],
          "contourcarpet": [
           {
            "colorbar": {
             "outlinewidth": 0,
             "ticks": ""
            },
            "type": "contourcarpet"
           }
          ],
          "heatmap": [
           {
            "colorbar": {
             "outlinewidth": 0,
             "ticks": ""
            },
            "colorscale": [
             [
              0,
              "#0d0887"
             ],
             [
              0.1111111111111111,
              "#46039f"
             ],
             [
              0.2222222222222222,
              "#7201a8"
             ],
             [
              0.3333333333333333,
              "#9c179e"
             ],
             [
              0.4444444444444444,
              "#bd3786"
             ],
             [
              0.5555555555555556,
              "#d8576b"
             ],
             [
              0.6666666666666666,
              "#ed7953"
             ],
             [
              0.7777777777777778,
              "#fb9f3a"
             ],
             [
              0.8888888888888888,
              "#fdca26"
             ],
             [
              1,
              "#f0f921"
             ]
            ],
            "type": "heatmap"
           }
          ],
          "heatmapgl": [
           {
            "colorbar": {
             "outlinewidth": 0,
             "ticks": ""
            },
            "colorscale": [
             [
              0,
              "#0d0887"
             ],
             [
              0.1111111111111111,
              "#46039f"
             ],
             [
              0.2222222222222222,
              "#7201a8"
             ],
             [
              0.3333333333333333,
              "#9c179e"
             ],
             [
              0.4444444444444444,
              "#bd3786"
             ],
             [
              0.5555555555555556,
              "#d8576b"
             ],
             [
              0.6666666666666666,
              "#ed7953"
             ],
             [
              0.7777777777777778,
              "#fb9f3a"
             ],
             [
              0.8888888888888888,
              "#fdca26"
             ],
             [
              1,
              "#f0f921"
             ]
            ],
            "type": "heatmapgl"
           }
          ],
          "histogram": [
           {
            "marker": {
             "pattern": {
              "fillmode": "overlay",
              "size": 10,
              "solidity": 0.2
             }
            },
            "type": "histogram"
           }
          ],
          "histogram2d": [
           {
            "colorbar": {
             "outlinewidth": 0,
             "ticks": ""
            },
            "colorscale": [
             [
              0,
              "#0d0887"
             ],
             [
              0.1111111111111111,
              "#46039f"
             ],
             [
              0.2222222222222222,
              "#7201a8"
             ],
             [
              0.3333333333333333,
              "#9c179e"
             ],
             [
              0.4444444444444444,
              "#bd3786"
             ],
             [
              0.5555555555555556,
              "#d8576b"
             ],
             [
              0.6666666666666666,
              "#ed7953"
             ],
             [
              0.7777777777777778,
              "#fb9f3a"
             ],
             [
              0.8888888888888888,
              "#fdca26"
             ],
             [
              1,
              "#f0f921"
             ]
            ],
            "type": "histogram2d"
           }
          ],
          "histogram2dcontour": [
           {
            "colorbar": {
             "outlinewidth": 0,
             "ticks": ""
            },
            "colorscale": [
             [
              0,
              "#0d0887"
             ],
             [
              0.1111111111111111,
              "#46039f"
             ],
             [
              0.2222222222222222,
              "#7201a8"
             ],
             [
              0.3333333333333333,
              "#9c179e"
             ],
             [
              0.4444444444444444,
              "#bd3786"
             ],
             [
              0.5555555555555556,
              "#d8576b"
             ],
             [
              0.6666666666666666,
              "#ed7953"
             ],
             [
              0.7777777777777778,
              "#fb9f3a"
             ],
             [
              0.8888888888888888,
              "#fdca26"
             ],
             [
              1,
              "#f0f921"
             ]
            ],
            "type": "histogram2dcontour"
           }
          ],
          "mesh3d": [
           {
            "colorbar": {
             "outlinewidth": 0,
             "ticks": ""
            },
            "type": "mesh3d"
           }
          ],
          "parcoords": [
           {
            "line": {
             "colorbar": {
              "outlinewidth": 0,
              "ticks": ""
             }
            },
            "type": "parcoords"
           }
          ],
          "pie": [
           {
            "automargin": true,
            "type": "pie"
           }
          ],
          "scatter": [
           {
            "fillpattern": {
             "fillmode": "overlay",
             "size": 10,
             "solidity": 0.2
            },
            "type": "scatter"
           }
          ],
          "scatter3d": [
           {
            "line": {
             "colorbar": {
              "outlinewidth": 0,
              "ticks": ""
             }
            },
            "marker": {
             "colorbar": {
              "outlinewidth": 0,
              "ticks": ""
             }
            },
            "type": "scatter3d"
           }
          ],
          "scattercarpet": [
           {
            "marker": {
             "colorbar": {
              "outlinewidth": 0,
              "ticks": ""
             }
            },
            "type": "scattercarpet"
           }
          ],
          "scattergeo": [
           {
            "marker": {
             "colorbar": {
              "outlinewidth": 0,
              "ticks": ""
             }
            },
            "type": "scattergeo"
           }
          ],
          "scattergl": [
           {
            "marker": {
             "colorbar": {
              "outlinewidth": 0,
              "ticks": ""
             }
            },
            "type": "scattergl"
           }
          ],
          "scattermapbox": [
           {
            "marker": {
             "colorbar": {
              "outlinewidth": 0,
              "ticks": ""
             }
            },
            "type": "scattermapbox"
           }
          ],
          "scatterpolar": [
           {
            "marker": {
             "colorbar": {
              "outlinewidth": 0,
              "ticks": ""
             }
            },
            "type": "scatterpolar"
           }
          ],
          "scatterpolargl": [
           {
            "marker": {
             "colorbar": {
              "outlinewidth": 0,
              "ticks": ""
             }
            },
            "type": "scatterpolargl"
           }
          ],
          "scatterternary": [
           {
            "marker": {
             "colorbar": {
              "outlinewidth": 0,
              "ticks": ""
             }
            },
            "type": "scatterternary"
           }
          ],
          "surface": [
           {
            "colorbar": {
             "outlinewidth": 0,
             "ticks": ""
            },
            "colorscale": [
             [
              0,
              "#0d0887"
             ],
             [
              0.1111111111111111,
              "#46039f"
             ],
             [
              0.2222222222222222,
              "#7201a8"
             ],
             [
              0.3333333333333333,
              "#9c179e"
             ],
             [
              0.4444444444444444,
              "#bd3786"
             ],
             [
              0.5555555555555556,
              "#d8576b"
             ],
             [
              0.6666666666666666,
              "#ed7953"
             ],
             [
              0.7777777777777778,
              "#fb9f3a"
             ],
             [
              0.8888888888888888,
              "#fdca26"
             ],
             [
              1,
              "#f0f921"
             ]
            ],
            "type": "surface"
           }
          ],
          "table": [
           {
            "cells": {
             "fill": {
              "color": "#EBF0F8"
             },
             "line": {
              "color": "white"
             }
            },
            "header": {
             "fill": {
              "color": "#C8D4E3"
             },
             "line": {
              "color": "white"
             }
            },
            "type": "table"
           }
          ]
         },
         "layout": {
          "annotationdefaults": {
           "arrowcolor": "#2a3f5f",
           "arrowhead": 0,
           "arrowwidth": 1
          },
          "autotypenumbers": "strict",
          "coloraxis": {
           "colorbar": {
            "outlinewidth": 0,
            "ticks": ""
           }
          },
          "colorscale": {
           "diverging": [
            [
             0,
             "#8e0152"
            ],
            [
             0.1,
             "#c51b7d"
            ],
            [
             0.2,
             "#de77ae"
            ],
            [
             0.3,
             "#f1b6da"
            ],
            [
             0.4,
             "#fde0ef"
            ],
            [
             0.5,
             "#f7f7f7"
            ],
            [
             0.6,
             "#e6f5d0"
            ],
            [
             0.7,
             "#b8e186"
            ],
            [
             0.8,
             "#7fbc41"
            ],
            [
             0.9,
             "#4d9221"
            ],
            [
             1,
             "#276419"
            ]
           ],
           "sequential": [
            [
             0,
             "#0d0887"
            ],
            [
             0.1111111111111111,
             "#46039f"
            ],
            [
             0.2222222222222222,
             "#7201a8"
            ],
            [
             0.3333333333333333,
             "#9c179e"
            ],
            [
             0.4444444444444444,
             "#bd3786"
            ],
            [
             0.5555555555555556,
             "#d8576b"
            ],
            [
             0.6666666666666666,
             "#ed7953"
            ],
            [
             0.7777777777777778,
             "#fb9f3a"
            ],
            [
             0.8888888888888888,
             "#fdca26"
            ],
            [
             1,
             "#f0f921"
            ]
           ],
           "sequentialminus": [
            [
             0,
             "#0d0887"
            ],
            [
             0.1111111111111111,
             "#46039f"
            ],
            [
             0.2222222222222222,
             "#7201a8"
            ],
            [
             0.3333333333333333,
             "#9c179e"
            ],
            [
             0.4444444444444444,
             "#bd3786"
            ],
            [
             0.5555555555555556,
             "#d8576b"
            ],
            [
             0.6666666666666666,
             "#ed7953"
            ],
            [
             0.7777777777777778,
             "#fb9f3a"
            ],
            [
             0.8888888888888888,
             "#fdca26"
            ],
            [
             1,
             "#f0f921"
            ]
           ]
          },
          "colorway": [
           "#636efa",
           "#EF553B",
           "#00cc96",
           "#ab63fa",
           "#FFA15A",
           "#19d3f3",
           "#FF6692",
           "#B6E880",
           "#FF97FF",
           "#FECB52"
          ],
          "font": {
           "color": "#2a3f5f"
          },
          "geo": {
           "bgcolor": "white",
           "lakecolor": "white",
           "landcolor": "#E5ECF6",
           "showlakes": true,
           "showland": true,
           "subunitcolor": "white"
          },
          "hoverlabel": {
           "align": "left"
          },
          "hovermode": "closest",
          "mapbox": {
           "style": "light"
          },
          "paper_bgcolor": "white",
          "plot_bgcolor": "#E5ECF6",
          "polar": {
           "angularaxis": {
            "gridcolor": "white",
            "linecolor": "white",
            "ticks": ""
           },
           "bgcolor": "#E5ECF6",
           "radialaxis": {
            "gridcolor": "white",
            "linecolor": "white",
            "ticks": ""
           }
          },
          "scene": {
           "xaxis": {
            "backgroundcolor": "#E5ECF6",
            "gridcolor": "white",
            "gridwidth": 2,
            "linecolor": "white",
            "showbackground": true,
            "ticks": "",
            "zerolinecolor": "white"
           },
           "yaxis": {
            "backgroundcolor": "#E5ECF6",
            "gridcolor": "white",
            "gridwidth": 2,
            "linecolor": "white",
            "showbackground": true,
            "ticks": "",
            "zerolinecolor": "white"
           },
           "zaxis": {
            "backgroundcolor": "#E5ECF6",
            "gridcolor": "white",
            "gridwidth": 2,
            "linecolor": "white",
            "showbackground": true,
            "ticks": "",
            "zerolinecolor": "white"
           }
          },
          "shapedefaults": {
           "line": {
            "color": "#2a3f5f"
           }
          },
          "ternary": {
           "aaxis": {
            "gridcolor": "white",
            "linecolor": "white",
            "ticks": ""
           },
           "baxis": {
            "gridcolor": "white",
            "linecolor": "white",
            "ticks": ""
           },
           "bgcolor": "#E5ECF6",
           "caxis": {
            "gridcolor": "white",
            "linecolor": "white",
            "ticks": ""
           }
          },
          "title": {
           "x": 0.05
          },
          "xaxis": {
           "automargin": true,
           "gridcolor": "white",
           "linecolor": "white",
           "ticks": "",
           "title": {
            "standoff": 15
           },
           "zerolinecolor": "white",
           "zerolinewidth": 2
          },
          "yaxis": {
           "automargin": true,
           "gridcolor": "white",
           "linecolor": "white",
           "ticks": "",
           "title": {
            "standoff": 15
           },
           "zerolinecolor": "white",
           "zerolinewidth": 2
          }
         }
        },
        "title": {
         "text": "White Rock PS"
        },
        "xaxis": {
         "range": [
          0,
          5
         ]
        },
        "yaxis": {
         "range": [
          -3,
          4
         ]
        }
       }
      },
      "text/html": [
       "<div>                            <div id=\"9d4ed9f2-4005-47f8-a031-b4d6aab1629d\" class=\"plotly-graph-div\" style=\"height:525px; width:100%;\"></div>            <script type=\"text/javascript\">                require([\"plotly\"], function(Plotly) {                    window.PLOTLYENV=window.PLOTLYENV || {};                                    if (document.getElementById(\"9d4ed9f2-4005-47f8-a031-b4d6aab1629d\")) {                    Plotly.newPlot(                        \"9d4ed9f2-4005-47f8-a031-b4d6aab1629d\",                        [],                        {\"template\":{\"data\":{\"histogram2dcontour\":[{\"type\":\"histogram2dcontour\",\"colorbar\":{\"outlinewidth\":0,\"ticks\":\"\"},\"colorscale\":[[0.0,\"#0d0887\"],[0.1111111111111111,\"#46039f\"],[0.2222222222222222,\"#7201a8\"],[0.3333333333333333,\"#9c179e\"],[0.4444444444444444,\"#bd3786\"],[0.5555555555555556,\"#d8576b\"],[0.6666666666666666,\"#ed7953\"],[0.7777777777777778,\"#fb9f3a\"],[0.8888888888888888,\"#fdca26\"],[1.0,\"#f0f921\"]]}],\"choropleth\":[{\"type\":\"choropleth\",\"colorbar\":{\"outlinewidth\":0,\"ticks\":\"\"}}],\"histogram2d\":[{\"type\":\"histogram2d\",\"colorbar\":{\"outlinewidth\":0,\"ticks\":\"\"},\"colorscale\":[[0.0,\"#0d0887\"],[0.1111111111111111,\"#46039f\"],[0.2222222222222222,\"#7201a8\"],[0.3333333333333333,\"#9c179e\"],[0.4444444444444444,\"#bd3786\"],[0.5555555555555556,\"#d8576b\"],[0.6666666666666666,\"#ed7953\"],[0.7777777777777778,\"#fb9f3a\"],[0.8888888888888888,\"#fdca26\"],[1.0,\"#f0f921\"]]}],\"heatmap\":[{\"type\":\"heatmap\",\"colorbar\":{\"outlinewidth\":0,\"ticks\":\"\"},\"colorscale\":[[0.0,\"#0d0887\"],[0.1111111111111111,\"#46039f\"],[0.2222222222222222,\"#7201a8\"],[0.3333333333333333,\"#9c179e\"],[0.4444444444444444,\"#bd3786\"],[0.5555555555555556,\"#d8576b\"],[0.6666666666666666,\"#ed7953\"],[0.7777777777777778,\"#fb9f3a\"],[0.8888888888888888,\"#fdca26\"],[1.0,\"#f0f921\"]]}],\"heatmapgl\":[{\"type\":\"heatmapgl\",\"colorbar\":{\"outlinewidth\":0,\"ticks\":\"\"},\"colorscale\":[[0.0,\"#0d0887\"],[0.1111111111111111,\"#46039f\"],[0.2222222222222222,\"#7201a8\"],[0.3333333333333333,\"#9c179e\"],[0.4444444444444444,\"#bd3786\"],[0.5555555555555556,\"#d8576b\"],[0.6666666666666666,\"#ed7953\"],[0.7777777777777778,\"#fb9f3a\"],[0.8888888888888888,\"#fdca26\"],[1.0,\"#f0f921\"]]}],\"contourcarpet\":[{\"type\":\"contourcarpet\",\"colorbar\":{\"outlinewidth\":0,\"ticks\":\"\"}}],\"contour\":[{\"type\":\"contour\",\"colorbar\":{\"outlinewidth\":0,\"ticks\":\"\"},\"colorscale\":[[0.0,\"#0d0887\"],[0.1111111111111111,\"#46039f\"],[0.2222222222222222,\"#7201a8\"],[0.3333333333333333,\"#9c179e\"],[0.4444444444444444,\"#bd3786\"],[0.5555555555555556,\"#d8576b\"],[0.6666666666666666,\"#ed7953\"],[0.7777777777777778,\"#fb9f3a\"],[0.8888888888888888,\"#fdca26\"],[1.0,\"#f0f921\"]]}],\"surface\":[{\"type\":\"surface\",\"colorbar\":{\"outlinewidth\":0,\"ticks\":\"\"},\"colorscale\":[[0.0,\"#0d0887\"],[0.1111111111111111,\"#46039f\"],[0.2222222222222222,\"#7201a8\"],[0.3333333333333333,\"#9c179e\"],[0.4444444444444444,\"#bd3786\"],[0.5555555555555556,\"#d8576b\"],[0.6666666666666666,\"#ed7953\"],[0.7777777777777778,\"#fb9f3a\"],[0.8888888888888888,\"#fdca26\"],[1.0,\"#f0f921\"]]}],\"mesh3d\":[{\"type\":\"mesh3d\",\"colorbar\":{\"outlinewidth\":0,\"ticks\":\"\"}}],\"scatter\":[{\"fillpattern\":{\"fillmode\":\"overlay\",\"size\":10,\"solidity\":0.2},\"type\":\"scatter\"}],\"parcoords\":[{\"type\":\"parcoords\",\"line\":{\"colorbar\":{\"outlinewidth\":0,\"ticks\":\"\"}}}],\"scatterpolargl\":[{\"type\":\"scatterpolargl\",\"marker\":{\"colorbar\":{\"outlinewidth\":0,\"ticks\":\"\"}}}],\"bar\":[{\"error_x\":{\"color\":\"#2a3f5f\"},\"error_y\":{\"color\":\"#2a3f5f\"},\"marker\":{\"line\":{\"color\":\"#E5ECF6\",\"width\":0.5},\"pattern\":{\"fillmode\":\"overlay\",\"size\":10,\"solidity\":0.2}},\"type\":\"bar\"}],\"scattergeo\":[{\"type\":\"scattergeo\",\"marker\":{\"colorbar\":{\"outlinewidth\":0,\"ticks\":\"\"}}}],\"scatterpolar\":[{\"type\":\"scatterpolar\",\"marker\":{\"colorbar\":{\"outlinewidth\":0,\"ticks\":\"\"}}}],\"histogram\":[{\"marker\":{\"pattern\":{\"fillmode\":\"overlay\",\"size\":10,\"solidity\":0.2}},\"type\":\"histogram\"}],\"scattergl\":[{\"type\":\"scattergl\",\"marker\":{\"colorbar\":{\"outlinewidth\":0,\"ticks\":\"\"}}}],\"scatter3d\":[{\"type\":\"scatter3d\",\"line\":{\"colorbar\":{\"outlinewidth\":0,\"ticks\":\"\"}},\"marker\":{\"colorbar\":{\"outlinewidth\":0,\"ticks\":\"\"}}}],\"scattermapbox\":[{\"type\":\"scattermapbox\",\"marker\":{\"colorbar\":{\"outlinewidth\":0,\"ticks\":\"\"}}}],\"scatterternary\":[{\"type\":\"scatterternary\",\"marker\":{\"colorbar\":{\"outlinewidth\":0,\"ticks\":\"\"}}}],\"scattercarpet\":[{\"type\":\"scattercarpet\",\"marker\":{\"colorbar\":{\"outlinewidth\":0,\"ticks\":\"\"}}}],\"carpet\":[{\"aaxis\":{\"endlinecolor\":\"#2a3f5f\",\"gridcolor\":\"white\",\"linecolor\":\"white\",\"minorgridcolor\":\"white\",\"startlinecolor\":\"#2a3f5f\"},\"baxis\":{\"endlinecolor\":\"#2a3f5f\",\"gridcolor\":\"white\",\"linecolor\":\"white\",\"minorgridcolor\":\"white\",\"startlinecolor\":\"#2a3f5f\"},\"type\":\"carpet\"}],\"table\":[{\"cells\":{\"fill\":{\"color\":\"#EBF0F8\"},\"line\":{\"color\":\"white\"}},\"header\":{\"fill\":{\"color\":\"#C8D4E3\"},\"line\":{\"color\":\"white\"}},\"type\":\"table\"}],\"barpolar\":[{\"marker\":{\"line\":{\"color\":\"#E5ECF6\",\"width\":0.5},\"pattern\":{\"fillmode\":\"overlay\",\"size\":10,\"solidity\":0.2}},\"type\":\"barpolar\"}],\"pie\":[{\"automargin\":true,\"type\":\"pie\"}]},\"layout\":{\"autotypenumbers\":\"strict\",\"colorway\":[\"#636efa\",\"#EF553B\",\"#00cc96\",\"#ab63fa\",\"#FFA15A\",\"#19d3f3\",\"#FF6692\",\"#B6E880\",\"#FF97FF\",\"#FECB52\"],\"font\":{\"color\":\"#2a3f5f\"},\"hovermode\":\"closest\",\"hoverlabel\":{\"align\":\"left\"},\"paper_bgcolor\":\"white\",\"plot_bgcolor\":\"#E5ECF6\",\"polar\":{\"bgcolor\":\"#E5ECF6\",\"angularaxis\":{\"gridcolor\":\"white\",\"linecolor\":\"white\",\"ticks\":\"\"},\"radialaxis\":{\"gridcolor\":\"white\",\"linecolor\":\"white\",\"ticks\":\"\"}},\"ternary\":{\"bgcolor\":\"#E5ECF6\",\"aaxis\":{\"gridcolor\":\"white\",\"linecolor\":\"white\",\"ticks\":\"\"},\"baxis\":{\"gridcolor\":\"white\",\"linecolor\":\"white\",\"ticks\":\"\"},\"caxis\":{\"gridcolor\":\"white\",\"linecolor\":\"white\",\"ticks\":\"\"}},\"coloraxis\":{\"colorbar\":{\"outlinewidth\":0,\"ticks\":\"\"}},\"colorscale\":{\"sequential\":[[0.0,\"#0d0887\"],[0.1111111111111111,\"#46039f\"],[0.2222222222222222,\"#7201a8\"],[0.3333333333333333,\"#9c179e\"],[0.4444444444444444,\"#bd3786\"],[0.5555555555555556,\"#d8576b\"],[0.6666666666666666,\"#ed7953\"],[0.7777777777777778,\"#fb9f3a\"],[0.8888888888888888,\"#fdca26\"],[1.0,\"#f0f921\"]],\"sequentialminus\":[[0.0,\"#0d0887\"],[0.1111111111111111,\"#46039f\"],[0.2222222222222222,\"#7201a8\"],[0.3333333333333333,\"#9c179e\"],[0.4444444444444444,\"#bd3786\"],[0.5555555555555556,\"#d8576b\"],[0.6666666666666666,\"#ed7953\"],[0.7777777777777778,\"#fb9f3a\"],[0.8888888888888888,\"#fdca26\"],[1.0,\"#f0f921\"]],\"diverging\":[[0,\"#8e0152\"],[0.1,\"#c51b7d\"],[0.2,\"#de77ae\"],[0.3,\"#f1b6da\"],[0.4,\"#fde0ef\"],[0.5,\"#f7f7f7\"],[0.6,\"#e6f5d0\"],[0.7,\"#b8e186\"],[0.8,\"#7fbc41\"],[0.9,\"#4d9221\"],[1,\"#276419\"]]},\"xaxis\":{\"gridcolor\":\"white\",\"linecolor\":\"white\",\"ticks\":\"\",\"title\":{\"standoff\":15},\"zerolinecolor\":\"white\",\"automargin\":true,\"zerolinewidth\":2},\"yaxis\":{\"gridcolor\":\"white\",\"linecolor\":\"white\",\"ticks\":\"\",\"title\":{\"standoff\":15},\"zerolinecolor\":\"white\",\"automargin\":true,\"zerolinewidth\":2},\"scene\":{\"xaxis\":{\"backgroundcolor\":\"#E5ECF6\",\"gridcolor\":\"white\",\"linecolor\":\"white\",\"showbackground\":true,\"ticks\":\"\",\"zerolinecolor\":\"white\",\"gridwidth\":2},\"yaxis\":{\"backgroundcolor\":\"#E5ECF6\",\"gridcolor\":\"white\",\"linecolor\":\"white\",\"showbackground\":true,\"ticks\":\"\",\"zerolinecolor\":\"white\",\"gridwidth\":2},\"zaxis\":{\"backgroundcolor\":\"#E5ECF6\",\"gridcolor\":\"white\",\"linecolor\":\"white\",\"showbackground\":true,\"ticks\":\"\",\"zerolinecolor\":\"white\",\"gridwidth\":2}},\"shapedefaults\":{\"line\":{\"color\":\"#2a3f5f\"}},\"annotationdefaults\":{\"arrowcolor\":\"#2a3f5f\",\"arrowhead\":0,\"arrowwidth\":1},\"geo\":{\"bgcolor\":\"white\",\"landcolor\":\"#E5ECF6\",\"subunitcolor\":\"white\",\"showland\":true,\"showlakes\":true,\"lakecolor\":\"white\"},\"title\":{\"x\":0.05},\"mapbox\":{\"style\":\"light\"}}},\"shapes\":[{\"line\":{\"color\":\"RoyalBlue\",\"width\":1},\"type\":\"rect\",\"x0\":1,\"x1\":2,\"y0\":-1.84,\"y1\":2.43},{\"line\":{\"color\":\"Red\",\"width\":2},\"type\":\"line\",\"x0\":2.5,\"x1\":2.5,\"y0\":0.31,\"y1\":-1.09},{\"line\":{\"color\":\"grey\",\"dash\":\"dot\",\"width\":1},\"type\":\"line\",\"x0\":1.5,\"x1\":2.5,\"y0\":0.31,\"y1\":0.31},{\"line\":{\"color\":\"grey\",\"dash\":\"dot\",\"width\":1},\"type\":\"line\",\"x0\":1.5,\"x1\":2.5,\"y0\":-1.09,\"y1\":-1.09},{\"line\":{\"color\":\"Red\",\"width\":2},\"type\":\"line\",\"x0\":3.0,\"x1\":3.0,\"y0\":0.61,\"y1\":-0.94},{\"line\":{\"color\":\"grey\",\"dash\":\"dot\",\"width\":1},\"type\":\"line\",\"x0\":1.5,\"x1\":3.0,\"y0\":0.61,\"y1\":0.61},{\"line\":{\"color\":\"grey\",\"dash\":\"dot\",\"width\":1},\"type\":\"line\",\"x0\":1.5,\"x1\":3.0,\"y0\":-0.94,\"y1\":-0.94},{\"line\":{\"color\":\"Red\",\"width\":2},\"type\":\"line\",\"x0\":3.5,\"x1\":3.5,\"y0\":0.91,\"y1\":-0.79},{\"line\":{\"color\":\"grey\",\"dash\":\"dot\",\"width\":1},\"type\":\"line\",\"x0\":1.5,\"x1\":3.5,\"y0\":0.91,\"y1\":0.91},{\"line\":{\"color\":\"grey\",\"dash\":\"dot\",\"width\":1},\"type\":\"line\",\"x0\":1.5,\"x1\":3.5,\"y0\":-0.79,\"y1\":-0.79}],\"annotations\":[{\"arrowhead\":1,\"showarrow\":false,\"text\":\"35445\",\"x\":1.5,\"y\":2.93},{\"arrowhead\":1,\"showarrow\":false,\"text\":\"WhiteRock1a-1stLevel\",\"x\":2.5,\"y\":0.81},{\"arrowhead\":1,\"showarrow\":false,\"text\":\"WhiteRock2a-2ndLevel\",\"x\":3.0,\"y\":1.1600000000000001},{\"arrowhead\":1,\"showarrow\":false,\"text\":\"WhiteRock3a-3rdLevel\",\"x\":3.5,\"y\":1.5100000000000002}],\"yaxis\":{\"range\":[-3,4]},\"xaxis\":{\"range\":[0,5]},\"title\":{\"text\":\"White Rock PS\"}},                        {\"responsive\": true}                    ).then(function(){\n",
       "                            \n",
       "var gd = document.getElementById('9d4ed9f2-4005-47f8-a031-b4d6aab1629d');\n",
       "var x = new MutationObserver(function (mutations, observer) {{\n",
       "        var display = window.getComputedStyle(gd).display;\n",
       "        if (!display || display === 'none') {{\n",
       "            console.log([gd, 'removed!']);\n",
       "            Plotly.purge(gd);\n",
       "            observer.disconnect();\n",
       "        }}\n",
       "}});\n",
       "\n",
       "// Listen for the removal of the full notebook cells\n",
       "var notebookContainer = gd.closest('#notebook-container');\n",
       "if (notebookContainer) {{\n",
       "    x.observe(notebookContainer, {childList: true});\n",
       "}}\n",
       "\n",
       "// Listen for the clearing of the current output cell\n",
       "var outputEl = gd.closest('.output');\n",
       "if (outputEl) {{\n",
       "    x.observe(outputEl, {childList: true});\n",
       "}}\n",
       "\n",
       "                        })                };                });            </script>        </div>"
      ]
     },
     "metadata": {},
     "output_type": "display_data"
    }
   ],
   "source": [
    "fig.show()"
   ]
  },
  {
   "cell_type": "code",
   "execution_count": 85,
   "id": "f6121ac1",
   "metadata": {},
   "outputs": [
    {
     "data": {
      "text/plain": [
       "12"
      ]
     },
     "execution_count": 85,
     "metadata": {},
     "output_type": "execute_result"
    }
   ],
   "source": [
    "y_axis_height"
   ]
  },
  {
   "cell_type": "code",
   "execution_count": 86,
   "id": "b7180fc7",
   "metadata": {},
   "outputs": [
    {
     "data": {
      "text/plain": [
       "0.6"
      ]
     },
     "execution_count": 86,
     "metadata": {},
     "output_type": "execute_result"
    }
   ],
   "source": [
    "delta_pump_text_y"
   ]
  },
  {
   "cell_type": "code",
   "execution_count": 87,
   "id": "4b0c3f70",
   "metadata": {},
   "outputs": [
    {
     "data": {
      "text/plain": [
       "-4.65"
      ]
     },
     "execution_count": 87,
     "metadata": {},
     "output_type": "execute_result"
    }
   ],
   "source": [
    "pump_text_y_previous"
   ]
  },
  {
   "cell_type": "code",
   "execution_count": 88,
   "id": "dde80f19",
   "metadata": {},
   "outputs": [
    {
     "data": {
      "text/plain": [
       "-4.65"
      ]
     },
     "execution_count": 88,
     "metadata": {},
     "output_type": "execute_result"
    }
   ],
   "source": [
    "pump_text_y"
   ]
  },
  {
   "cell_type": "code",
   "execution_count": 89,
   "id": "dc1d3035",
   "metadata": {},
   "outputs": [
    {
     "data": {
      "text/plain": [
       "-5.75"
      ]
     },
     "execution_count": 89,
     "metadata": {},
     "output_type": "execute_result"
    }
   ],
   "source": [
    "row['Start_Level']"
   ]
  },
  {
   "cell_type": "code",
   "execution_count": 96,
   "id": "40d2f114",
   "metadata": {},
   "outputs": [
    {
     "data": {
      "text/html": [
       "<div>\n",
       "<style scoped>\n",
       "    .dataframe tbody tr th:only-of-type {\n",
       "        vertical-align: middle;\n",
       "    }\n",
       "\n",
       "    .dataframe tbody tr th {\n",
       "        vertical-align: top;\n",
       "    }\n",
       "\n",
       "    .dataframe thead th {\n",
       "        text-align: right;\n",
       "    }\n",
       "</style>\n",
       "<table border=\"1\" class=\"dataframe\">\n",
       "  <thead>\n",
       "    <tr style=\"text-align: right;\">\n",
       "      <th></th>\n",
       "      <th>PS</th>\n",
       "      <th>Sump</th>\n",
       "      <th>Invert_Level</th>\n",
       "      <th>Ground_Level</th>\n",
       "      <th>Pump</th>\n",
       "      <th>Start_Level</th>\n",
       "      <th>Stop_Level</th>\n",
       "      <th>Speed</th>\n",
       "      <th>Setpoint</th>\n",
       "      <th>Capacity_Type</th>\n",
       "      <th>Discharge</th>\n",
       "      <th>Pump_Curve_Max</th>\n",
       "      <th>Pump_Curve_Min</th>\n",
       "    </tr>\n",
       "  </thead>\n",
       "  <tbody>\n",
       "    <tr>\n",
       "      <th>110</th>\n",
       "      <td>White Rock PS</td>\n",
       "      <td>35445</td>\n",
       "      <td>-1.84</td>\n",
       "      <td>2.43</td>\n",
       "      <td>WhiteRock1a-1stLevel</td>\n",
       "      <td>0.31</td>\n",
       "      <td>-1.09</td>\n",
       "      <td>Constant</td>\n",
       "      <td>NaN</td>\n",
       "      <td>Q-DeltaH</td>\n",
       "      <td>NaN</td>\n",
       "      <td>WhiteRockPump-Up-to-date</td>\n",
       "      <td>NaN</td>\n",
       "    </tr>\n",
       "    <tr>\n",
       "      <th>111</th>\n",
       "      <td>White Rock PS</td>\n",
       "      <td>35445</td>\n",
       "      <td>-1.84</td>\n",
       "      <td>2.43</td>\n",
       "      <td>WhiteRock2a-2ndLevel</td>\n",
       "      <td>0.61</td>\n",
       "      <td>-0.94</td>\n",
       "      <td>Constant</td>\n",
       "      <td>NaN</td>\n",
       "      <td>Q-DeltaH</td>\n",
       "      <td>NaN</td>\n",
       "      <td>WhiteRockPump-Up-to-date</td>\n",
       "      <td>NaN</td>\n",
       "    </tr>\n",
       "    <tr>\n",
       "      <th>112</th>\n",
       "      <td>White Rock PS</td>\n",
       "      <td>35445</td>\n",
       "      <td>-1.84</td>\n",
       "      <td>2.43</td>\n",
       "      <td>WhiteRock3a-3rdLevel</td>\n",
       "      <td>0.91</td>\n",
       "      <td>-0.79</td>\n",
       "      <td>Constant</td>\n",
       "      <td>NaN</td>\n",
       "      <td>Q-DeltaH</td>\n",
       "      <td>NaN</td>\n",
       "      <td>WhiteRockPump-Up-to-date</td>\n",
       "      <td>NaN</td>\n",
       "    </tr>\n",
       "  </tbody>\n",
       "</table>\n",
       "</div>"
      ],
      "text/plain": [
       "                PS   Sump  Invert_Level  Ground_Level                  Pump  \\\n",
       "110  White Rock PS  35445         -1.84          2.43  WhiteRock1a-1stLevel   \n",
       "111  White Rock PS  35445         -1.84          2.43  WhiteRock2a-2ndLevel   \n",
       "112  White Rock PS  35445         -1.84          2.43  WhiteRock3a-3rdLevel   \n",
       "\n",
       "     Start_Level  Stop_Level     Speed  Setpoint Capacity_Type  Discharge  \\\n",
       "110         0.31       -1.09  Constant       NaN      Q-DeltaH        NaN   \n",
       "111         0.61       -0.94  Constant       NaN      Q-DeltaH        NaN   \n",
       "112         0.91       -0.79  Constant       NaN      Q-DeltaH        NaN   \n",
       "\n",
       "               Pump_Curve_Max Pump_Curve_Min  \n",
       "110  WhiteRockPump-Up-to-date            NaN  \n",
       "111  WhiteRockPump-Up-to-date            NaN  \n",
       "112  WhiteRockPump-Up-to-date            NaN  "
      ]
     },
     "execution_count": 96,
     "metadata": {},
     "output_type": "execute_result"
    }
   ],
   "source": [
    "df_ps"
   ]
  },
  {
   "cell_type": "code",
   "execution_count": 105,
   "id": "22c6f4bf",
   "metadata": {},
   "outputs": [
    {
     "data": {
      "text/html": [
       "<div>\n",
       "<style scoped>\n",
       "    .dataframe tbody tr th:only-of-type {\n",
       "        vertical-align: middle;\n",
       "    }\n",
       "\n",
       "    .dataframe tbody tr th {\n",
       "        vertical-align: top;\n",
       "    }\n",
       "\n",
       "    .dataframe thead th {\n",
       "        text-align: right;\n",
       "    }\n",
       "</style>\n",
       "<table border=\"1\" class=\"dataframe\">\n",
       "  <thead>\n",
       "    <tr style=\"text-align: right;\">\n",
       "      <th></th>\n",
       "      <th>Pump</th>\n",
       "      <th>Start_Level</th>\n",
       "      <th>Stop_Level</th>\n",
       "      <th>Speed</th>\n",
       "      <th>Setpoint</th>\n",
       "      <th>Capacity_Type</th>\n",
       "      <th>Discharge</th>\n",
       "      <th>Pump_Curve_Max</th>\n",
       "      <th>Pump_Curve_Min</th>\n",
       "    </tr>\n",
       "  </thead>\n",
       "  <tbody>\n",
       "    <tr>\n",
       "      <th>110</th>\n",
       "      <td>WhiteRock1a-1stLevel</td>\n",
       "      <td>0.31</td>\n",
       "      <td>-1.09</td>\n",
       "      <td>Constant</td>\n",
       "      <td>NaN</td>\n",
       "      <td>Q-DeltaH</td>\n",
       "      <td>NaN</td>\n",
       "      <td>WhiteRockPump-Up-to-date</td>\n",
       "      <td>NaN</td>\n",
       "    </tr>\n",
       "    <tr>\n",
       "      <th>111</th>\n",
       "      <td>WhiteRock2a-2ndLevel</td>\n",
       "      <td>0.61</td>\n",
       "      <td>-0.94</td>\n",
       "      <td>Constant</td>\n",
       "      <td>NaN</td>\n",
       "      <td>Q-DeltaH</td>\n",
       "      <td>NaN</td>\n",
       "      <td>WhiteRockPump-Up-to-date</td>\n",
       "      <td>NaN</td>\n",
       "    </tr>\n",
       "    <tr>\n",
       "      <th>112</th>\n",
       "      <td>WhiteRock3a-3rdLevel</td>\n",
       "      <td>0.91</td>\n",
       "      <td>-0.79</td>\n",
       "      <td>Constant</td>\n",
       "      <td>NaN</td>\n",
       "      <td>Q-DeltaH</td>\n",
       "      <td>NaN</td>\n",
       "      <td>WhiteRockPump-Up-to-date</td>\n",
       "      <td>NaN</td>\n",
       "    </tr>\n",
       "  </tbody>\n",
       "</table>\n",
       "</div>"
      ],
      "text/plain": [
       "                     Pump  Start_Level  Stop_Level     Speed  Setpoint  \\\n",
       "110  WhiteRock1a-1stLevel         0.31       -1.09  Constant       NaN   \n",
       "111  WhiteRock2a-2ndLevel         0.61       -0.94  Constant       NaN   \n",
       "112  WhiteRock3a-3rdLevel         0.91       -0.79  Constant       NaN   \n",
       "\n",
       "    Capacity_Type  Discharge            Pump_Curve_Max Pump_Curve_Min  \n",
       "110      Q-DeltaH        NaN  WhiteRockPump-Up-to-date            NaN  \n",
       "111      Q-DeltaH        NaN  WhiteRockPump-Up-to-date            NaN  \n",
       "112      Q-DeltaH        NaN  WhiteRockPump-Up-to-date            NaN  "
      ]
     },
     "execution_count": 105,
     "metadata": {},
     "output_type": "execute_result"
    }
   ],
   "source": [
    "df_pumps = df_ps[df_ps.columns[4:]].copy()\n",
    "df_pumps"
   ]
  },
  {
   "cell_type": "code",
   "execution_count": 122,
   "id": "080be079",
   "metadata": {},
   "outputs": [
    {
     "data": {
      "text/plain": [
       "True"
      ]
     },
     "execution_count": 122,
     "metadata": {},
     "output_type": "execute_result"
    }
   ],
   "source": [
    "import numpy as np\n",
    "np.isnan(df_pumps.loc[110,'Discharge'])"
   ]
  },
  {
   "cell_type": "code",
   "execution_count": null,
   "id": "6412476b",
   "metadata": {},
   "outputs": [],
   "source": []
  }
 ],
 "metadata": {
  "kernelspec": {
   "display_name": "py39_mike",
   "language": "python",
   "name": "py39_mike"
  },
  "language_info": {
   "codemirror_mode": {
    "name": "ipython",
    "version": 3
   },
   "file_extension": ".py",
   "mimetype": "text/x-python",
   "name": "python",
   "nbconvert_exporter": "python",
   "pygments_lexer": "ipython3",
   "version": "3.9.12"
  }
 },
 "nbformat": 4,
 "nbformat_minor": 5
}
